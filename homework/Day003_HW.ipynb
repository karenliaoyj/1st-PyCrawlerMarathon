{
 "cells": [
  {
   "cell_type": "markdown",
   "metadata": {},
   "source": [
    "# Python 下載XML檔案與解析\n",
    "\n",
    "\n",
    "* 了解 xml 檔案格式與內容\n",
    "* 能夠利用套件存取 xml 格式的檔案\n"
   ]
  },
  {
   "cell_type": "markdown",
   "metadata": {},
   "source": [
    "## 作業目標\n",
    "\n",
    "* 比較一下範例檔案中的「File I/O」與「xmltodict」讀出來的內容有什麼差異\n",
    "\n",
    "* 根據範例檔案的結果：\n",
    "    1. 請問高雄市有多少地區有溫度資料？\n",
    "    2. 請取出每一個地區所記錄的第一個時間點跟溫度\n",
    "    3. 請取出第一個地區所記錄的每一個時間點跟溫度"
   ]
  },
  {
   "cell_type": "markdown",
   "metadata": {},
   "source": [
    "### 比較一下範例檔案中的「File I/O」與「xmltodict」讀出來的內容有什麼差異\n"
   ]
  },
  {
   "cell_type": "code",
   "execution_count": 2,
   "metadata": {},
   "outputs": [
    {
     "ename": "FileNotFoundError",
     "evalue": "[Errno 2] No such file or directory: './Data/64_72hr_CH.xml'",
     "output_type": "error",
     "traceback": [
      "\u001b[1;31m---------------------------------------------------------------------------\u001b[0m",
      "\u001b[1;31mFileNotFoundError\u001b[0m                         Traceback (most recent call last)",
      "\u001b[1;32m<ipython-input-2-d5677241f052>\u001b[0m in \u001b[0;36m<module>\u001b[1;34m\u001b[0m\n\u001b[0;32m      1\u001b[0m \u001b[1;32mimport\u001b[0m \u001b[0mxml\u001b[0m\u001b[1;33m.\u001b[0m\u001b[0mdom\u001b[0m\u001b[1;33m.\u001b[0m\u001b[0mminidom\u001b[0m\u001b[1;33m\u001b[0m\u001b[1;33m\u001b[0m\u001b[0m\n\u001b[1;32m----> 2\u001b[1;33m \u001b[0mfh\u001b[0m \u001b[1;33m=\u001b[0m \u001b[0mopen\u001b[0m\u001b[1;33m(\u001b[0m\u001b[1;34m\"./Data/64_72hr_CH.xml\"\u001b[0m\u001b[1;33m,\u001b[0m \u001b[1;34m\"r\"\u001b[0m\u001b[1;33m,\u001b[0m \u001b[0mencoding\u001b[0m \u001b[1;33m=\u001b[0m \u001b[1;34m'utf-8'\u001b[0m\u001b[1;33m)\u001b[0m\u001b[1;33m\u001b[0m\u001b[1;33m\u001b[0m\u001b[0m\n\u001b[0m\u001b[0;32m      3\u001b[0m \u001b[0mxml\u001b[0m \u001b[1;33m=\u001b[0m \u001b[0mfh\u001b[0m\u001b[1;33m.\u001b[0m\u001b[0mread\u001b[0m\u001b[1;33m(\u001b[0m\u001b[1;33m)\u001b[0m\u001b[1;33m\u001b[0m\u001b[1;33m\u001b[0m\u001b[0m\n\u001b[0;32m      4\u001b[0m \u001b[0mfh\u001b[0m\u001b[1;33m.\u001b[0m\u001b[0mclose\u001b[0m\u001b[1;33m(\u001b[0m\u001b[1;33m)\u001b[0m\u001b[1;33m\u001b[0m\u001b[1;33m\u001b[0m\u001b[0m\n\u001b[0;32m      5\u001b[0m \u001b[1;33m\u001b[0m\u001b[0m\n",
      "\u001b[1;31mFileNotFoundError\u001b[0m: [Errno 2] No such file or directory: './Data/64_72hr_CH.xml'"
     ]
    }
   ],
   "source": [
    "#file i/o讀出來會有標籤，xmltodict讀出來的會將標籤濾掉"
   ]
  },
  {
   "cell_type": "markdown",
   "metadata": {},
   "source": [
    "### 根據範例檔案的結果：\n",
    "\n",
    "1. 請問高雄市有多少地區有溫度資料？\n",
    "2. 請取出每一個地區所記錄的第一個時間點跟溫度\n",
    "3. 請取出第一個地區所記錄的每一個時間點跟溫度"
   ]
  },
  {
   "cell_type": "code",
   "execution_count": 16,
   "metadata": {},
   "outputs": [
    {
     "name": "stdout",
     "output_type": "stream",
     "text": [
      "總共 38 地區\n"
     ]
    }
   ],
   "source": [
    "# 1. 請問高雄市有多少地區有溫度資料？\n",
    "import urllib.request\n",
    "import zipfile\n",
    "\n",
    "res = \"http://opendata.cwb.gov.tw/govdownload?dataid=F-D0047-093&authorizationkey=rdec-key-123-45678-011121314\"\n",
    "urllib.request.urlretrieve(res, \"./data/example.zip\")\n",
    "f = zipfile.ZipFile('./data/example.zip')\n",
    "f.extractall('./data')\n",
    "\n",
    "fh = open(\"./data/64_72hr_CH.xml\", \"r\",encoding=\"utf-8\")\n",
    "xml = fh.read()\n",
    "fh.close()\n",
    "\n",
    "import xmltodict \n",
    "with open(\"./data/64_72hr_CH.xml\",encoding=\"utf-8\") as fd:   \n",
    "   \n",
    "    doc = dict(xmltodict.parse(fd.read()))     \n",
    "    dataset = doc['cwbopendata']['dataset']['locations']['location']\n",
    "    print(\"總共\",len(dataset),\"地區\")\n",
    "   \n"
   ]
  },
  {
   "cell_type": "code",
   "execution_count": 19,
   "metadata": {},
   "outputs": [
    {
     "name": "stdout",
     "output_type": "stream",
     "text": [
      "鹽埕區  2019-12-10T00:00:00+08:00   18\n",
      "鼓山區  2019-12-10T00:00:00+08:00   18\n",
      "左營區  2019-12-10T00:00:00+08:00   17\n",
      "楠梓區  2019-12-10T00:00:00+08:00   17\n",
      "三民區  2019-12-10T00:00:00+08:00   18\n",
      "新興區  2019-12-10T00:00:00+08:00   18\n",
      "前金區  2019-12-10T00:00:00+08:00   18\n",
      "苓雅區  2019-12-10T00:00:00+08:00   18\n",
      "前鎮區  2019-12-10T00:00:00+08:00   19\n",
      "旗津區  2019-12-10T00:00:00+08:00   18\n",
      "小港區  2019-12-10T00:00:00+08:00   18\n",
      "鳳山區  2019-12-10T00:00:00+08:00   17\n",
      "林園區  2019-12-10T00:00:00+08:00   18\n",
      "大寮區  2019-12-10T00:00:00+08:00   18\n",
      "大樹區  2019-12-10T00:00:00+08:00   16\n",
      "大社區  2019-12-10T00:00:00+08:00   16\n",
      "仁武區  2019-12-10T00:00:00+08:00   16\n",
      "鳥松區  2019-12-10T00:00:00+08:00   17\n",
      "岡山區  2019-12-10T00:00:00+08:00   17\n",
      "橋頭區  2019-12-10T00:00:00+08:00   17\n",
      "燕巢區  2019-12-10T00:00:00+08:00   16\n",
      "田寮區  2019-12-10T00:00:00+08:00   15\n",
      "阿蓮區  2019-12-10T00:00:00+08:00   16\n",
      "路竹區  2019-12-10T00:00:00+08:00   16\n",
      "湖內區  2019-12-10T00:00:00+08:00   17\n",
      "茄萣區  2019-12-10T00:00:00+08:00   17\n",
      "永安區  2019-12-10T00:00:00+08:00   17\n",
      "彌陀區  2019-12-10T00:00:00+08:00   17\n",
      "梓官區  2019-12-10T00:00:00+08:00   16\n",
      "旗山區  2019-12-10T00:00:00+08:00   16\n",
      "美濃區  2019-12-10T00:00:00+08:00   16\n",
      "六龜區  2019-12-10T00:00:00+08:00   16\n",
      "甲仙區  2019-12-10T00:00:00+08:00   13\n",
      "杉林區  2019-12-10T00:00:00+08:00   16\n",
      "內門區  2019-12-10T00:00:00+08:00   14\n",
      "茂林區  2019-12-10T00:00:00+08:00   14\n",
      "桃源區  2019-12-10T00:00:00+08:00   13\n",
      "那瑪夏區  2019-12-10T00:00:00+08:00   12\n"
     ]
    }
   ],
   "source": [
    "# 2. 請取出每一個地區所記錄的第一個時間點跟溫度\n",
    "for i in range(len(dataset)) : \n",
    "    d1 = dataset[i]\n",
    "    d2 = d1['weatherElement'][0]['time'][0] \n",
    "    print(d1['locationName'], '' ,d2['dataTime'] ,' ' ,d2['elementValue']['value'])"
   ]
  },
  {
   "cell_type": "code",
   "execution_count": 18,
   "metadata": {},
   "outputs": [
    {
     "name": "stdout",
     "output_type": "stream",
     "text": [
      "鹽埕區\n",
      "2019-12-10T00:00:00+08:00 18\n",
      "2019-12-10T03:00:00+08:00 17\n",
      "2019-12-10T06:00:00+08:00 16\n",
      "2019-12-10T09:00:00+08:00 18\n",
      "2019-12-10T12:00:00+08:00 23\n",
      "2019-12-10T15:00:00+08:00 23\n",
      "2019-12-10T18:00:00+08:00 21\n",
      "2019-12-10T21:00:00+08:00 19\n",
      "2019-12-11T00:00:00+08:00 18\n",
      "2019-12-11T03:00:00+08:00 17\n",
      "2019-12-11T06:00:00+08:00 16\n",
      "2019-12-11T09:00:00+08:00 19\n",
      "2019-12-11T12:00:00+08:00 25\n",
      "2019-12-11T15:00:00+08:00 25\n",
      "2019-12-11T18:00:00+08:00 23\n",
      "2019-12-11T21:00:00+08:00 20\n",
      "2019-12-12T00:00:00+08:00 19\n",
      "2019-12-12T03:00:00+08:00 18\n",
      "2019-12-12T06:00:00+08:00 17\n",
      "2019-12-12T09:00:00+08:00 19\n",
      "2019-12-12T12:00:00+08:00 24\n",
      "2019-12-12T15:00:00+08:00 25\n",
      "2019-12-12T18:00:00+08:00 23\n",
      "2019-12-12T21:00:00+08:00 21\n"
     ]
    }
   ],
   "source": [
    "# 3. 請取出第一個地區所記錄的每一個時間點跟溫度\n",
    "d3 = dataset[0]['weatherElement'][0]['time']\n",
    "print(dataset[0]['locationName'])\n",
    "for i in range(len(d3)) : \n",
    "    d4 = d3[i]\n",
    "    print(d4['dataTime'] , d4['elementValue']['value'])"
   ]
  },
  {
   "cell_type": "code",
   "execution_count": null,
   "metadata": {},
   "outputs": [],
   "source": []
  }
 ],
 "metadata": {
  "kernelspec": {
   "display_name": "Python 3",
   "language": "python",
   "name": "python3"
  },
  "language_info": {
   "codemirror_mode": {
    "name": "ipython",
    "version": 3
   },
   "file_extension": ".py",
   "mimetype": "text/x-python",
   "name": "python",
   "nbconvert_exporter": "python",
   "pygments_lexer": "ipython3",
   "version": "3.6.9"
  }
 },
 "nbformat": 4,
 "nbformat_minor": 2
}
